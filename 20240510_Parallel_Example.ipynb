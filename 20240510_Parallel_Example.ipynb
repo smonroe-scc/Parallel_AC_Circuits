{
 "cells": [
  {
   "cell_type": "code",
   "execution_count": 1,
   "id": "d72478c0",
   "metadata": {},
   "outputs": [
    {
     "name": "stdout",
     "output_type": "stream",
     "text": [
      "Author        : S Monroe\n",
      "Version       : 3.11.4 | packaged by Anaconda, Inc. | (main, Jul  5 2023, 13:38:37) [MSC v.1916 64 bit (AMD64)]\n",
      "NumPy lib     : 1.24.3\n",
      "Encoding      : utf-8\n",
      "Timestamp     : 1715356458.5781946\n"
     ]
    }
   ],
   "source": [
    "from math import cos, sin, tan, acos, asin, atan, atan2, degrees, radians\n",
    "from numpy import reciprocal, pi, sqrt, angle, exp\n",
    "import numpy as np\n",
    "import time, sys\n",
    "\n",
    "#hextime=float.hex(time.time())\n",
    "\n",
    "# The foregoing is a clunky way to do this\n",
    "# Haven't spent a lot of time thinking through a more elegant solution\n",
    "\n",
    "def cosd(x):\n",
    "  return cos(radians(x))\n",
    "\n",
    "def sind(x):\n",
    "  return sin(radians(x))\n",
    "\n",
    "def tand(x):\n",
    "  return tan(radians(x))\n",
    "\n",
    "def acosd(x):\n",
    "  return degrees(acos(x))\n",
    "\n",
    "def asind(x):\n",
    "  return degrees(asin(x))\n",
    "\n",
    "def atand(x):\n",
    "  return degrees(atan(x))\n",
    "\n",
    "def atan2d(y, x):\n",
    "  return degrees(atan2(y, x))\n",
    "\n",
    "## Now define conversion functions:\n",
    "\n",
    "def P2R(radii, angles):\n",
    "    return radii * exp(1j*angles*(pi/180))\n",
    "\n",
    "def R2P(x):\n",
    "    return abs(x), angle(x, deg=True)\n",
    "\n",
    "\n",
    "print(\"Author        : S Monroe\")\n",
    "print(\"Version       :\",sys.version[0:100])\n",
    "print(\"NumPy lib     :\",np.version.version)\n",
    "print(\"Encoding      :\",sys.getdefaultencoding())\n",
    "print(\"Timestamp     :\",time.time())"
   ]
  },
  {
   "cell_type": "code",
   "execution_count": 2,
   "id": "3249682f",
   "metadata": {},
   "outputs": [],
   "source": [
    "EGEN=10\n",
    "R=1000.\n",
    "f=300.\n",
    "C=1.0E-6\n",
    "L=4.7E-3\n",
    "Rw=10.\n",
    "XC=((2*np.pi*f*C)**-1)*-1j\n",
    "XL=(2*np.pi*f*L)*1j"
   ]
  },
  {
   "cell_type": "code",
   "execution_count": 3,
   "id": "5abdb7f9",
   "metadata": {},
   "outputs": [
    {
     "name": "stdout",
     "output_type": "stream",
     "text": [
      "   I1:  (0.01, 0.0)\n",
      "   I2:  (0.01884955592153876, 90.0)\n",
      "   I3:  (0.7485083575230144, -41.53866809718077)\n",
      "ILINE:  (0.7437830493148391, -39.94077483431336)\n"
     ]
    }
   ],
   "source": [
    "I1=EGEN/R\n",
    "I2=EGEN/XC\n",
    "I3=EGEN/(Rw+XL)\n",
    "ILINE=I1+I2+I3\n",
    "print(\"   I1: \",R2P(I1))\n",
    "print(\"   I2: \",R2P(I2))\n",
    "print(\"   I3: \",R2P(I3))\n",
    "print(\"ILINE: \",R2P(ILINE))"
   ]
  },
  {
   "cell_type": "code",
   "execution_count": 4,
   "id": "0ac7f416",
   "metadata": {},
   "outputs": [
    {
     "name": "stdout",
     "output_type": "stream",
     "text": [
      "ZT:  (13.444780718264338, 39.94077483431335)\n"
     ]
    }
   ],
   "source": [
    "ZT=EGEN/ILINE\n",
    "print(\"ZT: \",R2P(ZT))"
   ]
  },
  {
   "cell_type": "markdown",
   "id": "0e6ce96c",
   "metadata": {},
   "source": [
    "### At resonance ..."
   ]
  },
  {
   "cell_type": "code",
   "execution_count": 5,
   "id": "4528e108",
   "metadata": {},
   "outputs": [],
   "source": [
    "EGEN=10\n",
    "R=1000.\n",
    "C=1.0E-6\n",
    "L=4.7E-3\n",
    "f=(2*np.pi*(C*L)**0.5)**-1\n",
    "Rw=10.\n",
    "XC=((2*np.pi*f*C)**-1)*-1j\n",
    "XL=(2*np.pi*f*L)*1j"
   ]
  },
  {
   "cell_type": "code",
   "execution_count": 6,
   "id": "022a98a2",
   "metadata": {},
   "outputs": [
    {
     "name": "stdout",
     "output_type": "stream",
     "text": [
      "   I1:  (0.01, 0.0)\n",
      "   I2:  (0.14586499149789456, 90.0)\n",
      "   I3:  (0.14433756729740643, -81.70107893206672)\n",
      "ILINE:  (0.030982722249895737, 5.628746490779515)\n"
     ]
    }
   ],
   "source": [
    "I1=EGEN/R\n",
    "I2=EGEN/XC\n",
    "I3=EGEN/(Rw+XL)\n",
    "ILINE=I1+I2+I3\n",
    "print(\"   I1: \",R2P(I1))\n",
    "print(\"   I2: \",R2P(I2))\n",
    "print(\"   I3: \",R2P(I3))\n",
    "print(\"ILINE: \",R2P(ILINE))"
   ]
  },
  {
   "cell_type": "code",
   "execution_count": 7,
   "id": "c090a889",
   "metadata": {},
   "outputs": [
    {
     "name": "stdout",
     "output_type": "stream",
     "text": [
      "ZT:  (322.7605347052308, -5.628746490779515)\n"
     ]
    }
   ],
   "source": [
    "ZT=EGEN/ILINE\n",
    "print(\"ZT: \",R2P(ZT))"
   ]
  }
 ],
 "metadata": {
  "kernelspec": {
   "display_name": "Python 3 (ipykernel)",
   "language": "python",
   "name": "python3"
  },
  "language_info": {
   "codemirror_mode": {
    "name": "ipython",
    "version": 3
   },
   "file_extension": ".py",
   "mimetype": "text/x-python",
   "name": "python",
   "nbconvert_exporter": "python",
   "pygments_lexer": "ipython3",
   "version": "3.11.4"
  }
 },
 "nbformat": 4,
 "nbformat_minor": 5
}
