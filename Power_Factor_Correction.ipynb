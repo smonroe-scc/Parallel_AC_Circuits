{
 "cells": [
  {
   "cell_type": "code",
   "execution_count": 1,
   "metadata": {
    "scrolled": true
   },
   "outputs": [
    {
     "name": "stdout",
     "output_type": "stream",
     "text": [
      "Author        : sm626967\n",
      "Python        : 3.7.4 \n",
      "NumPy         : 1.18.1\n",
      "Encoding      : utf-8\n",
      "Timestamp     : 1583789795.6972258\n"
     ]
    }
   ],
   "source": [
    "%run ./py_templates/1_Boilerplate_numeric.py"
   ]
  },
  {
   "cell_type": "markdown",
   "metadata": {},
   "source": [
    "### Case 1: $P_T$ known from Wattmeter, $I_{LINE}$ known from Ammeter"
   ]
  },
  {
   "cell_type": "code",
   "execution_count": 2,
   "metadata": {},
   "outputs": [],
   "source": [
    "PT=96.0\n",
    "I_LINE=1.86\n",
    "EGEN=115.0\n",
    "f=60.0\n",
    "w_0=2.0*pi*f"
   ]
  },
  {
   "cell_type": "markdown",
   "metadata": {},
   "source": [
    "In order to calculate the apparent power and the reactive power, use Ohm's law, and trigonometry:"
   ]
  },
  {
   "cell_type": "code",
   "execution_count": 3,
   "metadata": {},
   "outputs": [],
   "source": [
    "P_APP=EGEN*I_LINE\n",
    "P_X=sqrt(P_APP**2-PT**2)"
   ]
  },
  {
   "cell_type": "markdown",
   "metadata": {},
   "source": [
    "In order to find the power factor calculate the ratio of true power to apparent power:"
   ]
  },
  {
   "cell_type": "code",
   "execution_count": 4,
   "metadata": {},
   "outputs": [],
   "source": [
    "pf=PT/P_APP"
   ]
  },
  {
   "cell_type": "markdown",
   "metadata": {},
   "source": [
    "In order to find the angle $\\theta$, take the inverse tangent of the power factor:"
   ]
  },
  {
   "cell_type": "code",
   "execution_count": 5,
   "metadata": {},
   "outputs": [],
   "source": [
    "theta=acosd(pf)"
   ]
  },
  {
   "cell_type": "markdown",
   "metadata": {},
   "source": [
    "Now, calculate $I_{RP}$, $I_{XLP}$, $X_{LP}$, and $R_P$ ..."
   ]
  },
  {
   "cell_type": "code",
   "execution_count": 6,
   "metadata": {},
   "outputs": [],
   "source": [
    "I_RP=I_LINE*cosd(theta)\n",
    "I_XLP=I_LINE*sind(theta)\n",
    "I_RP_CORR1=I_RP\n",
    "I_XLP_CORR1=I_XLP\n",
    "RP=EGEN/I_RP\n",
    "XLP=EGEN/I_XLP"
   ]
  },
  {
   "cell_type": "code",
   "execution_count": 7,
   "metadata": {},
   "outputs": [
    {
     "name": "stdout",
     "output_type": "stream",
     "text": [
      "Apparent Power: 213.9 VA\n",
      "Reactive Power: 191.14708995953876 VAR\n",
      "True Power 96.0 W\n",
      "Power Factor 0.4488078541374474\n",
      "Impedance Angle: 63.33277719743373 °\n",
      "Current Resistive: 0.8347826086956521 A\n",
      "Current Inductive: 1.6621486083438153 A\n",
      "Inductive Reactance: 69.18755604806442 Ω\n",
      "Winding Resistance: 137.76041666666669 Ω\n"
     ]
    }
   ],
   "source": [
    "print(\"Apparent Power:\",P_APP, \"VA\")\n",
    "print(\"Reactive Power:\",abs(P_X),\"VAR\")\n",
    "print(\"True Power\",PT,\"W\")\n",
    "print(\"Power Factor\",pf)\n",
    "print(\"Impedance Angle:\",theta,u'\\xb0')\n",
    "print(\"Current Resistive:\",I_RP,\"A\")\n",
    "print(\"Current Inductive:\",I_XLP,\"A\")\n",
    "print(\"Inductive Reactance:\",XLP,\"Ω\")\n",
    "print(\"Winding Resistance:\",RP,\"Ω\")"
   ]
  },
  {
   "cell_type": "markdown",
   "metadata": {},
   "source": [
    "### Case 2: $P_T$ known from Wattmeter, $\\theta$ provided:"
   ]
  },
  {
   "cell_type": "code",
   "execution_count": 8,
   "metadata": {},
   "outputs": [],
   "source": [
    "PT=277\n",
    "EGEN=220.0\n",
    "theta=59\n",
    "f=60.0\n",
    "w_0=2.0*pi*f"
   ]
  },
  {
   "cell_type": "markdown",
   "metadata": {},
   "source": [
    "Use trigonometry to calculate all sides of the power triangle,"
   ]
  },
  {
   "cell_type": "code",
   "execution_count": 9,
   "metadata": {},
   "outputs": [],
   "source": [
    "P_APP=PT/cosd(theta)\n",
    "P_X=P_APP*sind(theta)"
   ]
  },
  {
   "cell_type": "markdown",
   "metadata": {},
   "source": [
    "Use Ohm's Law to calculate $I_{LINE}$:"
   ]
  },
  {
   "cell_type": "code",
   "execution_count": 10,
   "metadata": {},
   "outputs": [
    {
     "name": "stdout",
     "output_type": "stream",
     "text": [
      "Line Current: 2.444655978707585 A\n"
     ]
    }
   ],
   "source": [
    "I_LINE=P_APP/EGEN\n",
    "print(\"Line Current:\",I_LINE,\"A\")"
   ]
  },
  {
   "cell_type": "markdown",
   "metadata": {},
   "source": [
    "Now use the angle and the total current to calcualte resistive and reactive current using a current triangle:"
   ]
  },
  {
   "cell_type": "code",
   "execution_count": 11,
   "metadata": {},
   "outputs": [],
   "source": [
    "I_XLP=I_LINE*sind(theta)\n",
    "I_RP=I_LINE*cosd(theta)\n",
    "I_XLP_CORR2=I_XLP\n",
    "I_RP_CORR2=I_RP"
   ]
  },
  {
   "cell_type": "markdown",
   "metadata": {},
   "source": [
    "Calculate the resistance and reactance using ohm's law:"
   ]
  },
  {
   "cell_type": "code",
   "execution_count": 12,
   "metadata": {},
   "outputs": [],
   "source": [
    "XLP=EGEN/I_XLP\n",
    "RP=EGEN/I_RP"
   ]
  },
  {
   "cell_type": "markdown",
   "metadata": {},
   "source": [
    "Calculate power factor using the impedance angle provided:"
   ]
  },
  {
   "cell_type": "code",
   "execution_count": 13,
   "metadata": {},
   "outputs": [],
   "source": [
    "pf=cosd(theta)"
   ]
  },
  {
   "cell_type": "code",
   "execution_count": 14,
   "metadata": {},
   "outputs": [
    {
     "name": "stdout",
     "output_type": "stream",
     "text": [
      "Apparent Power: 537.8243153156687 VA\n",
      "Reactive Power: 461.0054166110935 VAR\n",
      "True Power 277 W\n",
      "Power Factor 0.5150380749100542\n",
      "Impedance Angle: 59 °\n",
      "Current Resistive: 1.259090909090909 A\n",
      "Current Inductive: 2.0954791664140613 A\n",
      "Inductive Reactance: 104.98792043658456 Ω\n",
      "Winding Resistance: 174.72924187725633 Ω\n"
     ]
    }
   ],
   "source": [
    "print(\"Apparent Power:\",P_APP, \"VA\")\n",
    "print(\"Reactive Power:\",abs(P_X),\"VAR\")\n",
    "print(\"True Power\",PT,\"W\")\n",
    "print(\"Power Factor\",pf)\n",
    "print(\"Impedance Angle:\",theta,u'\\xb0')\n",
    "print(\"Current Resistive:\",I_RP,\"A\")\n",
    "print(\"Current Inductive:\",I_XLP,\"A\")\n",
    "print(\"Inductive Reactance:\",XLP,\"Ω\")\n",
    "print(\"Winding Resistance:\",RP,\"Ω\")"
   ]
  },
  {
   "cell_type": "markdown",
   "metadata": {},
   "source": [
    "### Case 3: Power factor correction executed on Case 1:"
   ]
  },
  {
   "cell_type": "code",
   "execution_count": 15,
   "metadata": {},
   "outputs": [],
   "source": [
    "PT=96\n",
    "I_LINE=1.86\n",
    "EGEN=115.0\n",
    "f=60.0\n",
    "w_0=2.0*pi*f"
   ]
  },
  {
   "cell_type": "markdown",
   "metadata": {},
   "source": [
    "Power factor correct to $\\eta=95\\%$"
   ]
  },
  {
   "cell_type": "code",
   "execution_count": 16,
   "metadata": {},
   "outputs": [],
   "source": [
    "theta_corr=acosd(0.95)"
   ]
  },
  {
   "cell_type": "markdown",
   "metadata": {},
   "source": [
    "Calculate corrected current triangle:"
   ]
  },
  {
   "cell_type": "code",
   "execution_count": 17,
   "metadata": {},
   "outputs": [
    {
     "name": "stdout",
     "output_type": "stream",
     "text": [
      "0.8787185354691075\n",
      "0.2743797747580075\n",
      "1.3877688335858078\n"
     ]
    }
   ],
   "source": [
    "I_LINE_CORR=I_RP_CORR1/cosd(theta_corr)\n",
    "print(I_LINE_CORR)\n",
    "I_X_CORR=I_LINE_CORR*sind(theta_corr)\n",
    "print(I_X_CORR)\n",
    "I_CAP=I_XLP_CORR1-I_X_CORR\n",
    "print(I_CAP)"
   ]
  },
  {
   "cell_type": "code",
   "execution_count": 18,
   "metadata": {},
   "outputs": [
    {
     "name": "stdout",
     "output_type": "stream",
     "text": [
      "Power factor correction capacitance: 3.2010184019428297e-05 F\n"
     ]
    }
   ],
   "source": [
    "XC=EGEN/I_CAP\n",
    "C=1.0/(w_0*XC)\n",
    "print(\"Power factor correction capacitance:\",C,\"F\")"
   ]
  },
  {
   "cell_type": "code",
   "execution_count": 19,
   "metadata": {},
   "outputs": [
    {
     "name": "stdout",
     "output_type": "stream",
     "text": [
      "I_LINE after power factor correction: 0.8787185354691075 A\n"
     ]
    }
   ],
   "source": [
    "print(\"I_LINE after power factor correction:\", I_LINE_CORR, \"A\")"
   ]
  },
  {
   "cell_type": "markdown",
   "metadata": {},
   "source": [
    "### Case 4: Power factor correction executed on Case 2:"
   ]
  },
  {
   "cell_type": "code",
   "execution_count": 20,
   "metadata": {},
   "outputs": [],
   "source": [
    "PT=277\n",
    "EGEN=220.0\n",
    "theta=59.0\n",
    "f=60.0\n",
    "w_0=2.0*pi*f"
   ]
  },
  {
   "cell_type": "code",
   "execution_count": 21,
   "metadata": {},
   "outputs": [],
   "source": [
    "P_APP=PT/cosd(theta)\n",
    "P_X=P_APP*sind(theta)\n",
    "I_LINE=P_APP/EGEN"
   ]
  },
  {
   "cell_type": "markdown",
   "metadata": {},
   "source": [
    "Power factor correct to $\\eta=95\\%$"
   ]
  },
  {
   "cell_type": "code",
   "execution_count": 22,
   "metadata": {},
   "outputs": [
    {
     "name": "stdout",
     "output_type": "stream",
     "text": [
      "18.194872338766785\n"
     ]
    }
   ],
   "source": [
    "theta_corr=acosd(0.95)\n",
    "print(theta_corr)"
   ]
  },
  {
   "cell_type": "markdown",
   "metadata": {},
   "source": [
    "Calculate corrected current triangle:"
   ]
  },
  {
   "cell_type": "code",
   "execution_count": 23,
   "metadata": {},
   "outputs": [
    {
     "name": "stdout",
     "output_type": "stream",
     "text": [
      "1.325358851674641\n",
      "0.4138431687933868\n"
     ]
    }
   ],
   "source": [
    "I_LINE_CORR2=I_RP_CORR2/cosd(theta_corr)\n",
    "print(I_LINE_CORR2)\n",
    "I_X_CORR2=I_LINE_CORR2*sind(theta_corr)\n",
    "print(I_X_CORR2)\n",
    "I_CAP2=I_XLP_CORR2-I_X_CORR2"
   ]
  },
  {
   "cell_type": "code",
   "execution_count": 24,
   "metadata": {},
   "outputs": [
    {
     "name": "stdout",
     "output_type": "stream",
     "text": [
      "Power factor correction capacitance: 2.0275809204742508e-05 F\n"
     ]
    }
   ],
   "source": [
    "XC=EGEN/I_CAP2\n",
    "C=1.0/(w_0*XC)\n",
    "print(\"Power factor correction capacitance:\",C,\"F\")"
   ]
  },
  {
   "cell_type": "code",
   "execution_count": 25,
   "metadata": {},
   "outputs": [
    {
     "name": "stdout",
     "output_type": "stream",
     "text": [
      "I_LINE after power factor correction: 1.325358851674641 A\n"
     ]
    }
   ],
   "source": [
    "print(\"I_LINE after power factor correction:\", I_LINE_CORR2, \"A\")"
   ]
  }
 ],
 "metadata": {
  "kernelspec": {
   "display_name": "Python 3",
   "language": "python",
   "name": "python3"
  },
  "language_info": {
   "codemirror_mode": {
    "name": "ipython",
    "version": 3
   },
   "file_extension": ".py",
   "mimetype": "text/x-python",
   "name": "python",
   "nbconvert_exporter": "python",
   "pygments_lexer": "ipython3",
   "version": "3.7.4"
  }
 },
 "nbformat": 4,
 "nbformat_minor": 1
}
