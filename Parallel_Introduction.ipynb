{
 "cells": [
  {
   "cell_type": "code",
   "execution_count": 1,
   "metadata": {},
   "outputs": [
    {
     "name": "stdout",
     "output_type": "stream",
     "text": [
      "Author        : sm626967\n",
      "Python        : 3.7.4 \n",
      "NumPy         : 1.18.1\n",
      "Encoding      : utf-8\n",
      "Timestamp     : 1594147115.943217\n"
     ]
    }
   ],
   "source": [
    "%run ./py_templates/1_Boilerplate_numeric.py"
   ]
  },
  {
   "cell_type": "markdown",
   "metadata": {},
   "source": [
    "Suppose we start with a circuit which has two elements:<br><br>\n",
    "1) $330 \\Omega$ resistor<br>\n",
    "2) 15mH inductor<br>\n",
    "These two elements are in parallel with one another, and they are in series with a signal source operating at $f=15kHz$"
   ]
  },
  {
   "cell_type": "markdown",
   "metadata": {},
   "source": [
    "Let's calculate the $Z_T$ of the circuit..."
   ]
  },
  {
   "cell_type": "code",
   "execution_count": 2,
   "metadata": {},
   "outputs": [],
   "source": [
    "ω=2*pi*15.0E3\n",
    "L=15.0E-3\n",
    "R=330.0"
   ]
  },
  {
   "cell_type": "code",
   "execution_count": 3,
   "metadata": {},
   "outputs": [],
   "source": [
    "XL=(ω*L)*1j"
   ]
  },
  {
   "cell_type": "code",
   "execution_count": 4,
   "metadata": {},
   "outputs": [],
   "source": [
    "BL=np.reciprocal(XL)\n",
    "GR=np.reciprocal(R)"
   ]
  },
  {
   "cell_type": "code",
   "execution_count": 5,
   "metadata": {},
   "outputs": [],
   "source": [
    "BL_polar=R2P(BL)\n",
    "GR_polar=R2P(GR)"
   ]
  },
  {
   "cell_type": "code",
   "execution_count": 6,
   "metadata": {},
   "outputs": [
    {
     "name": "stdout",
     "output_type": "stream",
     "text": [
      "BL: 7.073553e-04 S ∠ -90.000 °\n",
      "GR: 3.030303e-03 S ∠ 0.000 °\n"
     ]
    }
   ],
   "source": [
    "print(\"BL:\",'{0:.6e}'.format(BL_polar[0]),\"S \\u2220\", '{0:.3f}'.format(BL_polar[1]),\"\\u00b0\")\n",
    "print(\"GR:\",'{0:.6e}'.format(GR_polar[0]),\"S \\u2220\", '{0:.3f}'.format(GR_polar[1]),\"\\u00b0\")"
   ]
  },
  {
   "cell_type": "markdown",
   "metadata": {},
   "source": [
    "Now, exactly what is $B_L?$\""
   ]
  },
  {
   "cell_type": "markdown",
   "metadata": {},
   "source": [
    "In the same way that <b>conductance</b> is the reciprocal of resistance, $B_L$ is the reciprocal of reactance and it is called <b>susceptance</b>.  Notice that the phase angle is now <b>negative $90^{\\circ}$ for susceptance.  In this case it is \"inductive susceptance.\" "
   ]
  },
  {
   "cell_type": "markdown",
   "metadata": {},
   "source": [
    "The vectors of conductance and susceptance are in quadrature, as is shown on <b>page 539</b> of the text: <b>figure 12-23</b>."
   ]
  },
  {
   "cell_type": "markdown",
   "metadata": {},
   "source": [
    "It is trivial to calculate the total <b>admittance</b> (which is the reciprocal of impedance) simply by adding the <b>rectangular form</b> of $B_L$ and $G_R$ together:"
   ]
  },
  {
   "cell_type": "code",
   "execution_count": 7,
   "metadata": {},
   "outputs": [],
   "source": [
    "YT=BL+GR\n",
    "YT_polar=R2P(YT)"
   ]
  },
  {
   "cell_type": "markdown",
   "metadata": {},
   "source": [
    "And as before we convert to polar form in the final step:"
   ]
  },
  {
   "cell_type": "code",
   "execution_count": 8,
   "metadata": {},
   "outputs": [
    {
     "name": "stdout",
     "output_type": "stream",
     "text": [
      "YT: 3.111766e-03 S ∠ -13.139 °\n"
     ]
    }
   ],
   "source": [
    "print(\"YT:\",'{0:.6e}'.format(YT_polar[0]),\"S \\u2220\", '{0:.3f}'.format(YT_polar[1]),\"\\u00b0\")"
   ]
  },
  {
   "cell_type": "markdown",
   "metadata": {},
   "source": [
    "If we take the reciprocal of $Y_T$ we get total impedance, $Z_T$ ..."
   ]
  },
  {
   "cell_type": "code",
   "execution_count": 9,
   "metadata": {},
   "outputs": [],
   "source": [
    "ZT=np.reciprocal(YT)\n",
    "ZT_polar=R2P(ZT)"
   ]
  },
  {
   "cell_type": "markdown",
   "metadata": {},
   "source": [
    "And as before we convert to polar form in the final step:"
   ]
  },
  {
   "cell_type": "code",
   "execution_count": 10,
   "metadata": {},
   "outputs": [
    {
     "name": "stdout",
     "output_type": "stream",
     "text": [
      "ZT: 321.360919 Ω ∠ 13.139 °\n"
     ]
    }
   ],
   "source": [
    "print(\"ZT:\",'{0:.6f}'.format(ZT_polar[0]),\"\\u03a9 \\u2220\", '{0:.3f}'.format(ZT_polar[1]),\"\\u00b0\")"
   ]
  },
  {
   "cell_type": "markdown",
   "metadata": {},
   "source": [
    "The same technique works for parallel RC circuits ... You can verify this technique with your text by following along on <b>page 451, Example 10-10</b>"
   ]
  },
  {
   "cell_type": "code",
   "execution_count": 11,
   "metadata": {},
   "outputs": [],
   "source": [
    "ω=2*pi*1.00E3\n",
    "C=0.22E-6\n",
    "R=330.0\n",
    "XC=(ω*C)**-1*-1j\n",
    "BC=np.reciprocal(XC)\n",
    "GR=np.reciprocal(R)\n",
    "BC_polar=R2P(BC)\n",
    "GR_polar=R2P(GR)"
   ]
  },
  {
   "cell_type": "code",
   "execution_count": 12,
   "metadata": {},
   "outputs": [
    {
     "name": "stdout",
     "output_type": "stream",
     "text": [
      "BC: 1.382301e-03 S ∠ 90.000 °\n",
      "GR: 3.030303e-03 S ∠ 0.000 °\n"
     ]
    }
   ],
   "source": [
    "print(\"BC:\",'{0:.6e}'.format(BC_polar[0]),\"S \\u2220\", '{0:.3f}'.format(BC_polar[1]),\"\\u00b0\")\n",
    "print(\"GR:\",'{0:.6e}'.format(GR_polar[0]),\"S \\u2220\", '{0:.3f}'.format(GR_polar[1]),\"\\u00b0\")"
   ]
  },
  {
   "cell_type": "code",
   "execution_count": 13,
   "metadata": {},
   "outputs": [],
   "source": [
    "YT=BC+GR\n",
    "YT_polar=R2P(YT)"
   ]
  },
  {
   "cell_type": "code",
   "execution_count": 14,
   "metadata": {},
   "outputs": [
    {
     "name": "stdout",
     "output_type": "stream",
     "text": [
      "YT: 3.330689e-03 S ∠ 24.521 °\n"
     ]
    }
   ],
   "source": [
    "print(\"YT:\",'{0:.6e}'.format(YT_polar[0]),\"S \\u2220\", '{0:.3f}'.format(YT_polar[1]),\"\\u00b0\")"
   ]
  },
  {
   "cell_type": "code",
   "execution_count": 15,
   "metadata": {},
   "outputs": [],
   "source": [
    "ZT=np.reciprocal(YT)\n",
    "ZT_polar=R2P(ZT)"
   ]
  },
  {
   "cell_type": "code",
   "execution_count": 16,
   "metadata": {},
   "outputs": [
    {
     "name": "stdout",
     "output_type": "stream",
     "text": [
      "ZT: 300.238143 Ω ∠ -24.521 °\n"
     ]
    }
   ],
   "source": [
    "print(\"ZT:\",'{0:.6f}'.format(ZT_polar[0]),\"\\u03a9 \\u2220\", '{0:.3f}'.format(ZT_polar[1]),\"\\u00b0\")"
   ]
  }
 ],
 "metadata": {
  "kernelspec": {
   "display_name": "Python 3",
   "language": "python",
   "name": "python3"
  },
  "language_info": {
   "codemirror_mode": {
    "name": "ipython",
    "version": 3
   },
   "file_extension": ".py",
   "mimetype": "text/x-python",
   "name": "python",
   "nbconvert_exporter": "python",
   "pygments_lexer": "ipython3",
   "version": "3.7.4"
  }
 },
 "nbformat": 4,
 "nbformat_minor": 4
}
