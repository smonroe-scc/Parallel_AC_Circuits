{
 "cells": [
  {
   "cell_type": "code",
   "execution_count": 1,
   "metadata": {},
   "outputs": [
    {
     "name": "stdout",
     "output_type": "stream",
     "text": [
      "Author        : sm626967\n",
      "Python        : 3.7.4 \n",
      "NumPy         : 1.18.1\n",
      "Encoding      : utf-8\n",
      "Timestamp     : 1594497675.3163915\n"
     ]
    }
   ],
   "source": [
    "%run ./py_templates/1_Boilerplate_numeric.py"
   ]
  },
  {
   "cell_type": "markdown",
   "metadata": {},
   "source": [
    "### Using the information provided for the worksheet entitled \"Parallel RC Homework\""
   ]
  },
  {
   "cell_type": "markdown",
   "metadata": {},
   "source": [
    "Given in the problem statement for #5:"
   ]
  },
  {
   "cell_type": "markdown",
   "metadata": {},
   "source": [<br><br>
    "$$Z_T=1500\\Omega \\angle -60^\\circ$$\n",
    "$$E_{GEN}=200 V \\angle 0^\\circ$$"
   ]
  },
  {
   "cell_type": "code",
   "execution_count": 2,
   "metadata": {},
   "outputs": [],
   "source": [
    "ZT=P2R(1500,-60)\n",
    "Egen=P2R(200.0,0)"
   ]
  },
  {
   "cell_type": "markdown",
   "metadata": {},
   "source": [
    "First Calculate $I_{line}$ ...  $I_{line}$ is the total line current."
   ]
  },
  {
   "cell_type": "code",
   "execution_count": 10,
   "metadata": {},
   "outputs": [
    {
     "name": "stdout",
     "output_type": "stream",
     "text": [
      "IT(Ohm's law): 1.333333e-01 A ∠ 60.000 °\n"
     ]
    }
   ],
   "source": [
    "ILINE=Egen/ZT\n",
    "IT_=R2P(ILINE)\n",
    "print(\"IT(Ohm's law):\",'{0:.6e}'.format(IT_[0]),\"A \\u2220\", '{0:.3f}'.format(IT_[1]),\"\\u00b0\")"
   ]
  },
  {
   "cell_type": "markdown",
   "metadata": {},
   "source": [
    "Now this will form a triangle ... the hypotenuse is Just as stated above.<br><br>\n",
    "$$I_{line}=0.13333 Amps \\angle 60^\\circ$$"
   ]
  },
  {
   "cell_type": "markdown",
   "metadata": {},
   "source": [
    "So what are the sides?"
   ]
  },
  {
   "cell_type": "markdown",
   "metadata": {},
   "source": [
    "The current through the resistive branch is $$I_R=I_{line}*cos(\\theta)$$"
   ]
  },
  {
   "cell_type": "markdown",
   "metadata": {},
   "source": [
    "The current through the reactive branch is $$I_C=I_{line}*sin(\\theta)$$"
   ]
  },
  {
   "cell_type": "code",
   "execution_count": 4,
   "metadata": {},
   "outputs": [],
   "source": [
    "IR_=IT_[0]*cosd(IT_[1])\n",
    "IC_=IT_[0]*sind(IT_[1])"
   ]
  },
  {
   "cell_type": "code",
   "execution_count": 5,
   "metadata": {},
   "outputs": [
    {
     "name": "stdout",
     "output_type": "stream",
     "text": [
      "IC: 0.115470 A\n",
      "IR: 0.066667 A\n"
     ]
    }
   ],
   "source": [
    "print(\"IC:\",'{0:.6f}'.format(IC_),\"A\")\n",
    "print(\"IR:\",'{0:.6f}'.format(IR_),\"A\")\n",
    "IC=P2R(IC_,90.0)\n",
    "IR=P2R(IR_,0.0)"
   ]
  },
  {
   "cell_type": "markdown",
   "metadata": {},
   "source": [
    "What are the phases angles on Each of these? "
   ]
  },
  {
   "cell_type": "markdown",
   "metadata": {},
   "source": [
    "The capacitive current is going to be $90^\\circ$, as we have seen before, and the Resistive current will be $0^\\circ$ as we have seen before."
   ]
  },
  {
   "cell_type": "markdown",
   "metadata": {},
   "source": [
    "So what are the values of $R$ and $X_C$ ...?"
   ]
  },
  {
   "cell_type": "markdown",
   "metadata": {},
   "source": [
    "Use Ohm's law.  We know that the voltage is the same across both components, and we know what the current values are: so, just use the following: $$X_C=\\frac{E_{GEN}}{I_C}$$ and $$R=\\frac{E_{GEN}}{I_R}$$"
   ]
  },
  {
   "cell_type": "code",
   "execution_count": 6,
   "metadata": {},
   "outputs": [],
   "source": [
    "XC=Egen/IC\n",
    "R=Egen/IR\n",
    "XC_=R2P(XC)\n",
    "R_=R2P(R)"
   ]
  },
  {
   "cell_type": "code",
   "execution_count": 7,
   "metadata": {},
   "outputs": [
    {
     "name": "stdout",
     "output_type": "stream",
     "text": [
      "XC: 1732.050808  Ω ∠ -90.000 °\n",
      " R: 3000.000000  Ω ∠ 0.000 °\n"
     ]
    }
   ],
   "source": [
    "print(\"XC:\",'{0:.6f}'.format(XC_[0]),\" \\u03a9 \\u2220\", '{0:.3f}'.format(XC_[1]),\"\\u00b0\")\n",
    "print(\" R:\",'{0:.6f}'.format(R_[0]),\" \\u03a9 \\u2220\", '{0:.3f}'.format(R_[1]),\"\\u00b0\")"
   ]
  },
  {
   "cell_type": "markdown",
   "metadata": {},
   "source": [
    "If we wanted to check this we could attempt to recreate the original $Z_T$ ..."
   ]
  },
  {
   "cell_type": "code",
   "execution_count": 8,
   "metadata": {},
   "outputs": [
    {
     "name": "stdout",
     "output_type": "stream",
     "text": [
      "ZT(check): 1.500000e+03 Ω ∠ -60.000 °\n"
     ]
    }
   ],
   "source": [
    "ZT_check=np.reciprocal(np.reciprocal(XC)+np.reciprocal(R))\n",
    "ZT_check_=R2P(ZT_check)\n",
    "print(\"ZT(check):\",'{0:.6e}'.format(ZT_check_[0]),\"\\u03a9 \\u2220\", '{0:.3f}'.format(ZT_check_[1]),\"\\u00b0\")"
   ]
  },
  {
   "cell_type": "markdown",
   "metadata": {},
   "source": [
    "<b>Boom</b>"
   ]
  }
 ],
 "metadata": {
  "kernelspec": {
   "display_name": "Python 3",
   "language": "python",
   "name": "python3"
  },
  "language_info": {
   "codemirror_mode": {
    "name": "ipython",
    "version": 3
   },
   "file_extension": ".py",
   "mimetype": "text/x-python",
   "name": "python",
   "nbconvert_exporter": "python",
   "pygments_lexer": "ipython3",
   "version": "3.7.4"
  }
 },
 "nbformat": 4,
 "nbformat_minor": 4
}
